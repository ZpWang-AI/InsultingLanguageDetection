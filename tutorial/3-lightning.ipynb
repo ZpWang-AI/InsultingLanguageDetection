{
 "cells": [
  {
   "attachments": {},
   "cell_type": "markdown",
   "metadata": {},
   "source": [
    "# 博客及相应代码\n",
    "\n",
    "有关 lightning 框架的使用，包括 fabric 版和 trainer 版\n",
    "\n",
    "以及模型训练的加速技巧，包括 AMP、DeepSpeed 等\n",
    "\n",
    "https://github.com/rasbt/faster-pytorch-blog\n",
    "\n",
    "https://sebastianraschka.com/blog/2023/pytorch-faster.html\n"
   ]
  },
  {
   "attachments": {},
   "cell_type": "markdown",
   "metadata": {},
   "source": [
    "写于 2023.6.9"
   ]
  }
 ],
 "metadata": {
  "kernelspec": {
   "display_name": "wzp_main",
   "language": "python",
   "name": "python3"
  },
  "language_info": {
   "codemirror_mode": {
    "name": "ipython",
    "version": 3
   },
   "file_extension": ".py",
   "mimetype": "text/x-python",
   "name": "python",
   "nbconvert_exporter": "python",
   "pygments_lexer": "ipython3",
   "version": "3.10.8"
  },
  "orig_nbformat": 4
 },
 "nbformat": 4,
 "nbformat_minor": 2
}
