{
 "cells": [
  {
   "cell_type": "code",
   "execution_count": 1,
   "metadata": {},
   "outputs": [
    {
     "name": "stdout",
     "output_type": "stream",
     "text": [
      "/home/zjdou/zpwang/InsultingLanguageDetection\n"
     ]
    },
    {
     "name": "stderr",
     "output_type": "stream",
     "text": [
      "/home/zjdou/anaconda3/envs/wzp_main/lib/python3.10/site-packages/tqdm/auto.py:22: TqdmWarning: IProgress not found. Please update jupyter and ipywidgets. See https://ipywidgets.readthedocs.io/en/stable/user_install.html\n",
      "  from .autonotebook import tqdm as notebook_tqdm\n"
     ]
    }
   ],
   "source": [
    "# 选择根目录\n",
    "%cd /home/zjdou/zpwang/InsultingLanguageDetection/\n",
    "\n",
    "import torch\n",
    "\n",
    "dev = torch.device('cuda:1')  # 运算设备，cpu 或 cuda\n",
    "model_name = 'bert-base-uncased'"
   ]
  },
  {
   "cell_type": "code",
   "execution_count": 2,
   "metadata": {},
   "outputs": [
    {
     "name": "stdout",
     "output_type": "stream",
     "text": [
      "one sample batch: [('i hate it', 'i am happy', 'i am sad', 'i am glad'), tensor([0, 1, 0, 1])]\n"
     ]
    }
   ],
   "source": [
    "# Data\n",
    "\n",
    "from torch.utils.data import Dataset, DataLoader\n",
    "from sklearn.model_selection import train_test_split\n",
    "\n",
    "\n",
    "class MyDataset(Dataset):\n",
    "    def __init__(self, data) -> None:\n",
    "        super().__init__()\n",
    "        self.data = data\n",
    "    \n",
    "    def __len__(self):\n",
    "        return len(self.data)\n",
    "    \n",
    "    def __getitem__(self, index):\n",
    "        return self.data[index]\n",
    "\n",
    "\n",
    "sample_data = [\n",
    "    ['i am happy', 1],\n",
    "    ['i am glad', 1],\n",
    "    ['i am sad', 0],\n",
    "    ['i hate it', 0],\n",
    "] * 16\n",
    "train_data, dev_data = train_test_split(sample_data, train_size=0.75, shuffle=True)\n",
    "train_dataloader = DataLoader(MyDataset(train_data), batch_size=4, shuffle=True)\n",
    "dev_dataloader = DataLoader(MyDataset(dev_data), batch_size=4, shuffle=False)\n",
    "print('one sample batch:', iter(train_dataloader).__next__())"
   ]
  },
  {
   "cell_type": "code",
   "execution_count": 3,
   "metadata": {},
   "outputs": [
    {
     "name": "stderr",
     "output_type": "stream",
     "text": [
      "Some weights of the model checkpoint at bert-base-uncased were not used when initializing BertForSequenceClassification: ['cls.seq_relationship.bias', 'cls.predictions.transform.LayerNorm.bias', 'cls.seq_relationship.weight', 'cls.predictions.transform.dense.weight', 'cls.predictions.bias', 'cls.predictions.transform.LayerNorm.weight', 'cls.predictions.transform.dense.bias', 'cls.predictions.decoder.weight']\n",
      "- This IS expected if you are initializing BertForSequenceClassification from the checkpoint of a model trained on another task or with another architecture (e.g. initializing a BertForSequenceClassification model from a BertForPreTraining model).\n",
      "- This IS NOT expected if you are initializing BertForSequenceClassification from the checkpoint of a model that you expect to be exactly identical (initializing a BertForSequenceClassification model from a BertForSequenceClassification model).\n",
      "Some weights of BertForSequenceClassification were not initialized from the model checkpoint at bert-base-uncased and are newly initialized: ['classifier.bias', 'classifier.weight']\n",
      "You should probably TRAIN this model on a down-stream task to be able to use it for predictions and inference.\n"
     ]
    }
   ],
   "source": [
    "# Model, Tokenizer\n",
    "\n",
    "from transformers import AutoModelForSequenceClassification, AutoTokenizer\n",
    "\n",
    "model = AutoModelForSequenceClassification.from_pretrained(\n",
    "    model_name, \n",
    "    cache_dir='./pretrained_model/',\n",
    "    num_labels=2,  # 分类的类别数量\n",
    ")\n",
    "model.to(dev)\n",
    "tokenizer = AutoTokenizer.from_pretrained(model_name, cache_dir='./pretrained_model/')\n",
    "\n"
   ]
  },
  {
   "cell_type": "code",
   "execution_count": 4,
   "metadata": {},
   "outputs": [],
   "source": [
    "# Loss, Optimizer\n",
    "\n",
    "import torch\n",
    "import torch.nn as nn\n",
    "\n",
    "criterion = nn.CrossEntropyLoss()  # 交叉熵损失\n",
    "optimizer = torch.optim.Adam(model.parameters(), lr=1e-3)"
   ]
  },
  {
   "cell_type": "code",
   "execution_count": 5,
   "metadata": {},
   "outputs": [],
   "source": [
    "# Dev 开发，不同于测试（Test），使用部分训练集调整超参\n",
    "\n",
    "\n",
    "import torchmetrics\n",
    "\n",
    "\n",
    "def val():\n",
    "    model.eval()\n",
    "    with torch.no_grad():\n",
    "        metric = torchmetrics.Accuracy('binary').to(dev)\n",
    "        for x, y in dev_dataloader:\n",
    "            x = tokenizer(x, padding=True, truncation=True, return_tensors='pt')\n",
    "            x = x.to(dev)\n",
    "            y = y.to(dev)\n",
    "            output = model(**x)\n",
    "            output = torch.argmax(output['logits'], dim=1)\n",
    "            metric(output, y)\n",
    "    print('Acc', metric.compute())"
   ]
  },
  {
   "cell_type": "code",
   "execution_count": 6,
   "metadata": {},
   "outputs": [
    {
     "name": "stdout",
     "output_type": "stream",
     "text": [
      "epoch 1, total loss 8.987\n",
      "Acc tensor(0.4375, device='cuda:1')\n",
      "epoch 2, total loss 10.084\n",
      "Acc tensor(0.4375, device='cuda:1')\n",
      "epoch 3, total loss 10.442\n",
      "Acc tensor(0.4375, device='cuda:1')\n"
     ]
    }
   ],
   "source": [
    "# Train\n",
    "\n",
    "epoch = 3  # 训练轮次，不同于batch，全部训练集训练一遍为一个epoch\n",
    "for p in range(1, epoch+1):\n",
    "    model.train()\n",
    "    total_loss = 0\n",
    "    for x, y in train_dataloader:\n",
    "        x = tokenizer(x, padding=True, truncation=True, return_tensors='pt')\n",
    "        x = x.to(dev)\n",
    "        y = y.to(dev)\n",
    "        output = model(**x)\n",
    "        # print(output)\n",
    "        loss = criterion(output['logits'], y)\n",
    "        loss.backward()\n",
    "        optimizer.step()\n",
    "        optimizer.zero_grad()\n",
    "\n",
    "        total_loss += loss\n",
    "    print(f'epoch {p}, total loss {total_loss:.3f}')\n",
    "    val()"
   ]
  },
  {
   "cell_type": "code",
   "execution_count": 7,
   "metadata": {},
   "outputs": [
    {
     "name": "stdout",
     "output_type": "stream",
     "text": [
      "Acc tensor(0.5000, device='cuda:1')\n"
     ]
    }
   ],
   "source": [
    "# Test\n",
    "\n",
    "test_data = [\n",
    "    ['i am angry', 0],\n",
    "    ['i dislike it', 0],\n",
    "    ['i am hopeful', 1],\n",
    "    ['i\\'m glad to see you', 1]\n",
    "]\n",
    "test_dataloader = DataLoader(MyDataset(test_data), batch_size=4)\n",
    "\n",
    "model.eval()\n",
    "with torch.no_grad():\n",
    "    metric = torchmetrics.Accuracy('binary').to(dev)\n",
    "    for x, y in test_dataloader:\n",
    "        x = tokenizer(x, padding=True, truncation=True, return_tensors='pt')\n",
    "        x = x.to(dev)\n",
    "        y = y.to(dev)\n",
    "        output = model(**x)\n",
    "        output = torch.argmax(output['logits'], dim=1)\n",
    "        metric(output, y)\n",
    "    print('Acc', metric.compute())\n"
   ]
  },
  {
   "attachments": {},
   "cell_type": "markdown",
   "metadata": {},
   "source": [
    "写于 2023.6.6"
   ]
  }
 ],
 "metadata": {
  "kernelspec": {
   "display_name": "wzp_main",
   "language": "python",
   "name": "python3"
  },
  "language_info": {
   "codemirror_mode": {
    "name": "ipython",
    "version": 3
   },
   "file_extension": ".py",
   "mimetype": "text/x-python",
   "name": "python",
   "nbconvert_exporter": "python",
   "pygments_lexer": "ipython3",
   "version": "3.10.8"
  },
  "orig_nbformat": 4
 },
 "nbformat": 4,
 "nbformat_minor": 2
}
